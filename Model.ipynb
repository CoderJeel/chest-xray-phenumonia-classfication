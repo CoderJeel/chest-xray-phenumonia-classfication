{
  "nbformat": 4,
  "nbformat_minor": 0,
  "metadata": {
    "colab": {
      "name": "Model.ipynb",
      "provenance": [],
      "collapsed_sections": [],
      "mount_file_id": "1Z4SyI1W5On_8ogysOYav215ss31N6nLH",
      "authorship_tag": "ABX9TyMEex0j1ladn58jPJFA7eK5",
      "include_colab_link": true
    },
    "kernelspec": {
      "name": "python3",
      "display_name": "Python 3"
    },
    "accelerator": "GPU"
  },
  "cells": [
    {
      "cell_type": "markdown",
      "metadata": {
        "id": "view-in-github",
        "colab_type": "text"
      },
      "source": [
        "<a href=\"https://colab.research.google.com/github/CoderJeel/chest-xray-phenumonia-classfication/blob/master/Model.ipynb\" target=\"_parent\"><img src=\"https://colab.research.google.com/assets/colab-badge.svg\" alt=\"Open In Colab\"/></a>"
      ]
    },
    {
      "cell_type": "code",
      "metadata": {
        "id": "FfgbrnHorjeH"
      },
      "source": [
        "import tensorflow as tf\n",
        "from tensorflow.keras.models import Sequential\n",
        "from tensorflow.keras.layers import Activation,Flatten,Conv2D,MaxPooling2D,Dense,Dropout,BatchNormalization\n",
        "from tensorflow.keras.callbacks import TensorBoard,EarlyStopping,ModelCheckpoint\n",
        "from tensorflow.keras.regularizers import Regularizer,L1,l2"
      ],
      "execution_count": 12,
      "outputs": []
    },
    {
      "cell_type": "code",
      "metadata": {
        "id": "xXUV1ME13EKY"
      },
      "source": [
        "import pickle\n",
        "feature = pickle.load(open('/content/drive/My Drive/Projects/phenumonia detector/Training/feature_train.pickle','rb'))\n",
        "labels = pickle.load(open('/content/drive/My Drive/Projects/phenumonia detector/Training/labels_train.pickle','rb'))\n"
      ],
      "execution_count": 2,
      "outputs": []
    },
    {
      "cell_type": "code",
      "metadata": {
        "id": "Aibru65RPdli"
      },
      "source": [
        "Val_feature = pickle.load(open('/content/drive/My Drive/Projects/phenumonia detector/Validation/feature_val.pickle','rb'))\n",
        "Val_lab = pickle.load(open('/content/drive/My Drive/Projects/phenumonia detector/Validation/labels_val.pickle','rb'))"
      ],
      "execution_count": 3,
      "outputs": []
    },
    {
      "cell_type": "code",
      "metadata": {
        "id": "IhSJJ7a3qOiZ",
        "outputId": "41ece798-c4af-4717-9dbc-ad8e701f7561",
        "colab": {
          "base_uri": "https://localhost:8080/",
          "height": 34
        }
      },
      "source": [
        "type(Val_feature) "
      ],
      "execution_count": 4,
      "outputs": [
        {
          "output_type": "execute_result",
          "data": {
            "text/plain": [
              "numpy.ndarray"
            ]
          },
          "metadata": {
            "tags": []
          },
          "execution_count": 4
        }
      ]
    },
    {
      "cell_type": "code",
      "metadata": {
        "id": "toW8-Q4MDi7v"
      },
      "source": [
        "#feature[5]"
      ],
      "execution_count": null,
      "outputs": []
    },
    {
      "cell_type": "code",
      "metadata": {
        "id": "DOLsdX9669fk",
        "outputId": "e2079a3e-69d1-4b6f-e8d0-b736af7f332c",
        "colab": {
          "base_uri": "https://localhost:8080/",
          "height": 52
        }
      },
      "source": [
        "print(feature.shape)\n",
        "print(labels.shape)"
      ],
      "execution_count": 5,
      "outputs": [
        {
          "output_type": "stream",
          "text": [
            "(5216, 160, 200, 1)\n",
            "(5216,)\n"
          ],
          "name": "stdout"
        }
      ]
    },
    {
      "cell_type": "code",
      "metadata": {
        "id": "RbiPwnrZsw72"
      },
      "source": [
        "#import time\n",
        "#NAME = \"PHENUMONIA-CLASSFICATION-{}\".format(int(time.time()))\n",
        "#tensorboard = TensorBoard(log_dir='Logs/{}'.format(NAME)) "
      ],
      "execution_count": 8,
      "outputs": []
    },
    {
      "cell_type": "code",
      "metadata": {
        "id": "MzYSfjHjkv3q"
      },
      "source": [
        "dense_layer=[2,3,4,5]\n",
        "layer_size = [32,64,128]\n",
        "conv_layers = [1,2,3]\n",
        "for dense in dense_layer:\n",
        "  for layer in layer_size:\n",
        "    for conv in conv_layers:\n",
        "      Name = \"{}-conv-{}-node-{}-dense-{}\".format(dense,layer,conv,int(time.time()))\n",
        "      print(Name)"
      ],
      "execution_count": null,
      "outputs": []
    },
    {
      "cell_type": "code",
      "metadata": {
        "id": "nFwdIR0mtnwg",
        "outputId": "952c8b37-5176-423c-fe18-d55efc2864cf",
        "colab": {
          "base_uri": "https://localhost:8080/",
          "height": 34
        }
      },
      "source": [
        "!ls"
      ],
      "execution_count": 9,
      "outputs": [
        {
          "output_type": "stream",
          "text": [
            "drive  Logs  sample_data\n"
          ],
          "name": "stdout"
        }
      ]
    },
    {
      "cell_type": "code",
      "metadata": {
        "id": "ROCF9h32Pa3Y"
      },
      "source": [
        ""
      ],
      "execution_count": null,
      "outputs": []
    },
    {
      "cell_type": "code",
      "metadata": {
        "id": "ae_vNEe57VIh"
      },
      "source": [
        "dense_layer=[2,3,4,5]\n",
        "layer_size = [32,64,128]\n",
        "conv_layers = [1,2,3]\n",
        "for dense in dense_layer:\n",
        "  for layer in layer_size:\n",
        "    for conv in conv_layers:\n",
        "      Name = \"{}-conv-{}-node-{}-dense-{}\".format(dense,layer,conv,int(time.time()))\n",
        "      print(Name)\n",
        "      tensorboard = TensorBoard(log_dir='Logs/{}'.format(Name)) \n",
        "      model = Sequential()\n",
        "      model.add(Conv2D(layer,(3,3),input_shape=feature.shape[1:]))\n",
        "      model.add(Activation('relu'))\n",
        "      model.add(MaxPooling2D(pool_size=(2,2)))\n",
        "\n",
        "      for l in range(conv-1):\n",
        "        model.add(Conv2D(layer,(3,3)))\n",
        "        model.add(Activation('relu'))\n",
        "        model.add(MaxPooling2D(pool_size=(2,2)))\n",
        "      \n",
        "      model.add(Flatten())\n",
        "      \n",
        "      for l in range(dense):\n",
        "        model.add(Dense(layer))\n",
        "        model.add(Activation('relu'))\n",
        "\n",
        "      model.add(Dense(1))\n",
        "      model.add(Activation('sigmoid'))\n",
        "\n",
        "      model.compile(loss=\"binary_crossentropy\",optimizer='adam',metrics=['accuracy'])\n",
        "\n",
        "      model.fit(feature,labels,batch_size = 20,epochs=5,validation_split=0.1,callbacks=[tensorboard])"
      ],
      "execution_count": null,
      "outputs": []
    },
    {
      "cell_type": "code",
      "metadata": {
        "id": "QAndgYSHkUCx"
      },
      "source": [
        "#model.save('/content/model_1_cvl.h5')"
      ],
      "execution_count": 9,
      "outputs": []
    },
    {
      "cell_type": "code",
      "metadata": {
        "id": "en7beNAhV3IV"
      },
      "source": [
        "earlyStopping = EarlyStopping(monitor='val_loss', patience=10, verbose=0, mode='min')\n",
        "mcp_save = ModelCheckpoint('.mdl_wts.hdf5', save_best_only=True, monitor='val_loss', mode='min')"
      ],
      "execution_count": 13,
      "outputs": []
    },
    {
      "cell_type": "code",
      "metadata": {
        "id": "842Vhneu5lQC",
        "outputId": "b82cb57a-c9f3-41fc-c07e-d2c30e5bac1b",
        "colab": {
          "base_uri": "https://localhost:8080/",
          "height": 645
        }
      },
      "source": [
        "dense_layer=[2]\n",
        "layer_size = [128]\n",
        "conv_layers = [1]\n",
        "for dense in dense_layer:\n",
        "  for layer in layer_size:\n",
        "    for conv in conv_layers:\n",
        "      #Name = \"{}-conv-{}-node-{}-dense-{}\".format(dense,layer,conv,int(time.time()))\n",
        "      #print(Name)\n",
        "      #tensorboard = TensorBoard(log_dir='Logs/{}'.format(Name)) \n",
        "      model = Sequential()\n",
        "      model.add(Conv2D(layer,(3,3),input_shape=feature.shape[1:]))\n",
        "      model.add(Activation('relu'))\n",
        "      model.add(MaxPooling2D(pool_size=(2,2)))\n",
        "\n",
        "      for l in range(conv-1):\n",
        "        model.add(Conv2D(layer,(3,3)))\n",
        "        model.add(Activation('relu'))\n",
        "        model.add(MaxPooling2D(pool_size=(2,2)))\n",
        "      \n",
        "      model.add(Flatten())\n",
        "      \n",
        "      for l in range(dense):\n",
        "        model.add(Dense(layer,kernel_regularizer=l2(0.001)))\n",
        "        model.add(Activation('relu'))\n",
        "        model.add(Dropout(0.2))\n",
        "\n",
        "      model.add(Dense(1))\n",
        "      model.add(Activation('sigmoid'))\n",
        "\n",
        "      model.compile(loss=\"binary_crossentropy\",optimizer='adam',metrics=['accuracy'])\n",
        "\n",
        "      model.fit(feature,labels,batch_size =32,epochs=25,validation_data = (Val_feature,Val_lab),callbacks=[earlyStopping,mcp_save])"
      ],
      "execution_count": 14,
      "outputs": [
        {
          "output_type": "stream",
          "text": [
            "Epoch 1/25\n",
            "  2/163 [..............................] - ETA: 8s - loss: 3.6253 - accuracy: 0.4844WARNING:tensorflow:Callbacks method `on_train_batch_end` is slow compared to the batch time (batch time: 0.0250s vs `on_train_batch_end` time: 0.0818s). Check your callbacks.\n",
            "163/163 [==============================] - 23s 142ms/step - loss: 1.1490 - accuracy: 0.8344 - val_loss: 1.1317 - val_accuracy: 0.6875\n",
            "Epoch 2/25\n",
            "163/163 [==============================] - 42s 257ms/step - loss: 0.3448 - accuracy: 0.9293 - val_loss: 0.4246 - val_accuracy: 0.8750\n",
            "Epoch 3/25\n",
            "163/163 [==============================] - 16s 100ms/step - loss: 0.2930 - accuracy: 0.9398 - val_loss: 0.6165 - val_accuracy: 0.7500\n",
            "Epoch 4/25\n",
            "163/163 [==============================] - 25s 151ms/step - loss: 0.2637 - accuracy: 0.9490 - val_loss: 0.3849 - val_accuracy: 0.8750\n",
            "Epoch 5/25\n",
            "163/163 [==============================] - 16s 99ms/step - loss: 0.2650 - accuracy: 0.9500 - val_loss: 0.4321 - val_accuracy: 0.8750\n",
            "Epoch 6/25\n",
            "163/163 [==============================] - 25s 151ms/step - loss: 0.2593 - accuracy: 0.9457 - val_loss: 0.2895 - val_accuracy: 1.0000\n",
            "Epoch 7/25\n",
            "163/163 [==============================] - 41s 254ms/step - loss: 0.2372 - accuracy: 0.9572 - val_loss: 0.1930 - val_accuracy: 1.0000\n",
            "Epoch 8/25\n",
            "163/163 [==============================] - 16s 99ms/step - loss: 0.2219 - accuracy: 0.9622 - val_loss: 0.3098 - val_accuracy: 0.8750\n",
            "Epoch 9/25\n",
            "163/163 [==============================] - 16s 99ms/step - loss: 0.2129 - accuracy: 0.9651 - val_loss: 0.5816 - val_accuracy: 0.7500\n",
            "Epoch 10/25\n",
            "163/163 [==============================] - 16s 99ms/step - loss: 0.2191 - accuracy: 0.9636 - val_loss: 0.3020 - val_accuracy: 0.9375\n",
            "Epoch 11/25\n",
            "163/163 [==============================] - 16s 99ms/step - loss: 0.2008 - accuracy: 0.9672 - val_loss: 0.3802 - val_accuracy: 0.8750\n",
            "Epoch 12/25\n",
            "163/163 [==============================] - 16s 99ms/step - loss: 0.2035 - accuracy: 0.9674 - val_loss: 0.3964 - val_accuracy: 0.9375\n",
            "Epoch 13/25\n",
            "163/163 [==============================] - 16s 99ms/step - loss: 0.2013 - accuracy: 0.9657 - val_loss: 1.3509 - val_accuracy: 0.5625\n",
            "Epoch 14/25\n",
            "163/163 [==============================] - 16s 99ms/step - loss: 0.1981 - accuracy: 0.9668 - val_loss: 0.3034 - val_accuracy: 0.8750\n",
            "Epoch 15/25\n",
            "163/163 [==============================] - 16s 100ms/step - loss: 0.1740 - accuracy: 0.9728 - val_loss: 0.3747 - val_accuracy: 0.8750\n",
            "Epoch 16/25\n",
            "163/163 [==============================] - 16s 99ms/step - loss: 0.1696 - accuracy: 0.9751 - val_loss: 0.2255 - val_accuracy: 0.9375\n",
            "Epoch 17/25\n",
            "163/163 [==============================] - 16s 99ms/step - loss: 0.1596 - accuracy: 0.9772 - val_loss: 0.2061 - val_accuracy: 0.9375\n"
          ],
          "name": "stdout"
        }
      ]
    },
    {
      "cell_type": "code",
      "metadata": {
        "id": "KBf7_Umi5u63"
      },
      "source": [
        "model.save('/content/model.h5')"
      ],
      "execution_count": 15,
      "outputs": []
    },
    {
      "cell_type": "code",
      "metadata": {
        "id": "awjn8Vb-ux0l"
      },
      "source": [
        "%load_ext tensorboard\n",
        "%tensorboard --logdir Logs"
      ],
      "execution_count": null,
      "outputs": []
    }
  ]
}