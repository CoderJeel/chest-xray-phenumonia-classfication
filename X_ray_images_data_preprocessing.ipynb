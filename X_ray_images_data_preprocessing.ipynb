{
  "nbformat": 4,
  "nbformat_minor": 0,
  "metadata": {
    "colab": {
      "name": "X_ray images_data_preprocessing.ipynb",
      "provenance": [],
      "collapsed_sections": [],
      "mount_file_id": "1EgU0Ad_Jo-tM1rTQ70xJFkbbq9zzeX5v",
      "authorship_tag": "ABX9TyNXeddwMqmy97EktV2j7Lkl",
      "include_colab_link": true
    },
    "kernelspec": {
      "name": "python3",
      "display_name": "Python 3"
    },
    "accelerator": "GPU"
  },
  "cells": [
    {
      "cell_type": "markdown",
      "metadata": {
        "id": "view-in-github",
        "colab_type": "text"
      },
      "source": [
        "<a href=\"https://colab.research.google.com/github/CoderJeel/chest-xray-phenumonia-classfication/blob/master/X_ray_images_data_preprocessing.ipynb\" target=\"_parent\"><img src=\"https://colab.research.google.com/assets/colab-badge.svg\" alt=\"Open In Colab\"/></a>"
      ]
    },
    {
      "cell_type": "code",
      "metadata": {
        "id": "UeFkHPrSV-py"
      },
      "source": [
        "from google.colab import files\n",
        "files.upload()"
      ],
      "execution_count": null,
      "outputs": []
    },
    {
      "cell_type": "code",
      "metadata": {
        "id": "M1H___24V--p"
      },
      "source": [
        "!mkdir -p ~/.kaggle \n",
        "!cp kaggle.json ~/.kaggle/\n",
        "!chmod 600 ~/.kaggle/kaggle.json "
      ],
      "execution_count": null,
      "outputs": []
    },
    {
      "cell_type": "code",
      "metadata": {
        "id": "rOgzN7N2V1v6"
      },
      "source": [
        "!kaggle datasets download -d paultimothymooney/chest-xray-pneumonia"
      ],
      "execution_count": null,
      "outputs": []
    },
    {
      "cell_type": "code",
      "metadata": {
        "id": "AJq9p9olYKYz"
      },
      "source": [
        "!unzip chest-xray-pneumonia.zip"
      ],
      "execution_count": null,
      "outputs": []
    },
    {
      "cell_type": "code",
      "metadata": {
        "id": "fWvPPpdKnfVq"
      },
      "source": [
        "import os\n",
        "import cv2\n",
        "import numpy as np\n",
        "import random"
      ],
      "execution_count": null,
      "outputs": []
    },
    {
      "cell_type": "code",
      "metadata": {
        "id": "SdfZ7KIuMKJF"
      },
      "source": [
        "#tra_part_2 = x[2608:]\n",
        "\n",
        "#X_2 =  np.array(tra_part_2).reshape(-1,img_height,img_weight,1)\n",
        "\n"
      ],
      "execution_count": null,
      "outputs": []
    },
    {
      "cell_type": "code",
      "metadata": {
        "id": "iO9dXEm8M_gm"
      },
      "source": [
        "#feature_data = np.concatenate((X,X_2))"
      ],
      "execution_count": null,
      "outputs": []
    },
    {
      "cell_type": "code",
      "metadata": {
        "id": "tfwayKqu8ndd"
      },
      "source": [
        "\n",
        "def data_preprocessing_labled(data_dir,X_fea,y_lab):\n",
        "  categories = [\"NORMAL\",\"PNEUMONIA\"]\n",
        "  data = []\n",
        "  img_height = 160\n",
        "  img_weight = 200\n",
        "\n",
        "  for cat in categories:\n",
        "    path = os.path.join(data_dir,cat)\n",
        "    cls = categories.index(cat)\n",
        "    for img in os.listdir(path):\n",
        "        img_array = cv2.imread(os.path.join(path,img),cv2.IMREAD_GRAYSCALE)\n",
        "        new_array = cv2.resize(img_array,(img_height,img_weight))\n",
        "        data.append([new_array,cls])\n",
        "  print(len(data))\n",
        "  random.shuffle(data)\n",
        "  x = []\n",
        "  y = []\n",
        "  for features,labels in data:\n",
        "    X_fea.append(features)\n",
        "    y_lab.append(labels)\n",
        "  return\n"
      ],
      "execution_count": null,
      "outputs": []
    },
    {
      "cell_type": "code",
      "metadata": {
        "id": "7oVzHyTeFhjU"
      },
      "source": [
        "data_directory_train = '/content/chest_xray/train'\n",
        "X_train = []\n",
        "y_train = []\n",
        "data_preprocessing_labled(data_directory_train,X_train,y_train)"
      ],
      "execution_count": null,
      "outputs": []
    },
    {
      "cell_type": "code",
      "metadata": {
        "id": "uBL3f5GvHvtS"
      },
      "source": [
        "img_height = 160\n",
        "img_weight = 200\n",
        "X_train = np.array(X_train).reshape(-1,img_height,img_weight,1)\n",
        "X_train = X_train/255.0\n",
        "\n",
        "y_train = np.array(y_train)\n",
        "\n",
        "X_train.shape"
      ],
      "execution_count": null,
      "outputs": []
    },
    {
      "cell_type": "code",
      "metadata": {
        "id": "7ID5lQlrJbUW"
      },
      "source": [
        "import pickle\n",
        "with open(\"feature_train.pickle\",\"wb\") as f:\n",
        "  pickle.dump(X_train,f,protocol=4)\n",
        "\n",
        "with open(\"labels_train.pickle\",\"wb\") as f:\n",
        "  pickle.dump(y_train,f,protocol=4)\n"
      ],
      "execution_count": null,
      "outputs": []
    },
    {
      "cell_type": "code",
      "metadata": {
        "id": "x7olgWo8EsF4"
      },
      "source": [
        "data_directory = '/content/chest_xray/val'\n",
        "X_validation = []\n",
        "y_validation = []\n",
        "data_preprocessing_labled(data_directory,X_validation,y_validation)"
      ],
      "execution_count": null,
      "outputs": []
    },
    {
      "cell_type": "code",
      "metadata": {
        "id": "HpFbYqY8AfgK"
      },
      "source": [
        "img_height = 160\n",
        "img_weight = 200\n",
        "X_validation = np.array(X_validation).reshape(-1,img_height,img_weight,1)\n",
        "X_validation = X_validation/255.0\n",
        "\n",
        "y_validation = np.array(y_validation)\n",
        "\n",
        "X_validation.shape"
      ],
      "execution_count": null,
      "outputs": []
    },
    {
      "cell_type": "code",
      "metadata": {
        "id": "xU1XJMTzPkp5"
      },
      "source": [
        "y_validation"
      ],
      "execution_count": null,
      "outputs": []
    },
    {
      "cell_type": "code",
      "metadata": {
        "id": "369mSEsnEwZ-"
      },
      "source": [
        "import pickle\n",
        "with open(\"feature_val.pickle\",\"wb\") as f:\n",
        "  pickle.dump(X_validation,f)\n",
        "\n",
        "with open(\"labels_val.pickle\",\"wb\") as f:\n",
        "  pickle.dump(y_validation,f)\n"
      ],
      "execution_count": null,
      "outputs": []
    }
  ]
}